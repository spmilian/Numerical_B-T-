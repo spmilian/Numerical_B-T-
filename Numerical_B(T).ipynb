{
  "nbformat": 4,
  "nbformat_minor": 0,
  "metadata": {
    "colab": {
      "provenance": [],
      "authorship_tag": "ABX9TyP5qdLM7XV5/h09IsBtOp4l",
      "include_colab_link": true
    },
    "kernelspec": {
      "name": "python3",
      "display_name": "Python 3"
    },
    "language_info": {
      "name": "python"
    }
  },
  "cells": [
    {
      "cell_type": "markdown",
      "metadata": {
        "id": "view-in-github",
        "colab_type": "text"
      },
      "source": [
        "<a href=\"https://colab.research.google.com/github/spmilian/Numerical_B-T-/blob/main/Numerical_B(T).ipynb\" target=\"_parent\"><img src=\"https://colab.research.google.com/assets/colab-badge.svg\" alt=\"Open In Colab\"/></a>"
      ]
    },
    {
      "cell_type": "code",
      "execution_count": 2,
      "metadata": {
        "id": "uGsuWUBzT8ny"
      },
      "outputs": [],
      "source": [
        "import sympy as sp\n",
        "import numpy as np\n",
        "import pandas as pd\n",
        "import matplotlib.pyplot as plt\n",
        "import scipy\n",
        "import scipy.interpolate as interpolate\n",
        "from scipy.integrate import quad\n",
        "from scipy.optimize import curve_fit\n",
        "############################################\n",
        "from sklearn import preprocessing\n",
        "############################################\n",
        "from numpy.polynomial.polynomial import Polynomial\n",
        "################################################\n",
        "###################################################\n"
      ]
    },
    {
      "cell_type": "code",
      "source": [
        "Temp = np.arange(100, 600, 100) #100*np.arange(1, 6)\n",
        "BT_nitrogen = np.array([-247, -58.4, -7.5, 15.3, 28.1])\n",
        "Temp"
      ],
      "metadata": {
        "colab": {
          "base_uri": "https://localhost:8080/"
        },
        "id": "OuPxGFtBUEVi",
        "outputId": "649073e0-2cfe-43da-c2ed-722d7f0e303b"
      },
      "execution_count": 25,
      "outputs": [
        {
          "output_type": "execute_result",
          "data": {
            "text/plain": [
              "array([100, 200, 300, 400, 500])"
            ]
          },
          "metadata": {},
          "execution_count": 25
        }
      ]
    },
    {
      "cell_type": "code",
      "source": [
        "BT_nitrogen"
      ],
      "metadata": {
        "colab": {
          "base_uri": "https://localhost:8080/"
        },
        "id": "43G_KoVMUP0V",
        "outputId": "2a301662-6e83-4bfe-e85d-3a51a98b8bc7"
      },
      "execution_count": 26,
      "outputs": [
        {
          "output_type": "execute_result",
          "data": {
            "text/plain": [
              "array([-247. ,  -58.4,   -7.5,   15.3,   28.1])"
            ]
          },
          "metadata": {},
          "execution_count": 26
        }
      ]
    },
    {
      "cell_type": "code",
      "source": [
        "plt.plot(Temp, BT_nitrogen)"
      ],
      "metadata": {
        "colab": {
          "base_uri": "https://localhost:8080/",
          "height": 448
        },
        "id": "ah6GtaqkUnri",
        "outputId": "b7167fc7-2de7-43cb-f50c-028df7ef461a"
      },
      "execution_count": 27,
      "outputs": [
        {
          "output_type": "execute_result",
          "data": {
            "text/plain": [
              "[<matplotlib.lines.Line2D at 0x7af89423ac50>]"
            ]
          },
          "metadata": {},
          "execution_count": 27
        },
        {
          "output_type": "display_data",
          "data": {
            "text/plain": [
              "<Figure size 640x480 with 1 Axes>"
            ],
            "image/png": "[encoded data removed]"
          },
          "metadata": {}
        }
      ]
    },
    {
      "cell_type": "code",
      "source": [],
      "metadata": {
        "id": "m0-VO6bSpAED"
      },
      "execution_count": 24,
      "outputs": []
    },
    {
      "cell_type": "code",
      "source": [],
      "metadata": {
        "id": "uXouRgaYpAF8"
      },
      "execution_count": 24,
      "outputs": []
    },
    {
      "cell_type": "code",
      "source": [],
      "metadata": {
        "id": "CseWs6hWpAHg"
      },
      "execution_count": 24,
      "outputs": []
    },
    {
      "cell_type": "markdown",
      "source": [
        "\\begin{equation}\n",
        "B(T)\\;=\\;-2\\pi\\sigma^3 \\mathcal{I},\\;\\;\\texttt{where}\\;\\; \\mathcal{I} \\;=\\; \\int^{\\infty}_0 dx x^2\\left(e^{{-4u_0 \\over  kT} \\left[({1\\over x})^{12}\\ - ({1\\over x})^6\\right]}-1\\right)\n",
        "\\end{equation}"
      ],
      "metadata": {
        "id": "e-eyMXjZXCl0"
      }
    },
    {
      "cell_type": "code",
      "source": [
        "u0_k = 95\n",
        "sigma = 3.74 #*10**(-10)\n",
        "u0_k"
      ],
      "metadata": {
        "colab": {
          "base_uri": "https://localhost:8080/"
        },
        "id": "3TyP1zL2mevT",
        "outputId": "501c4906-27b7-4326-f47c-7bc5ca1f7fe9"
      },
      "execution_count": 19,
      "outputs": [
        {
          "output_type": "execute_result",
          "data": {
            "text/plain": [
              "95"
            ]
          },
          "metadata": {},
          "execution_count": 19
        }
      ]
    },
    {
      "cell_type": "code",
      "source": [],
      "metadata": {
        "id": "N6f_lnLst4T4"
      },
      "execution_count": 24,
      "outputs": []
    },
    {
      "cell_type": "code",
      "source": [
        "#\n",
        "def integrand(x, T): #\n",
        "  exponent = -4*u0_k*((1/x)**12  - (1/x)**6)\n",
        "  return x**2*(np.exp(exponent/T)-1) #\n",
        "\n",
        "\n",
        "def expint(T): #\n",
        "  return quad(integrand, 0, np.inf, args=(T, ))[0]\n",
        "\n",
        "vec_expint = np.vectorize(expint)\n",
        "\n"
      ],
      "metadata": {
        "id": "QYrESr39VL9j"
      },
      "execution_count": 18,
      "outputs": []
    },
    {
      "cell_type": "code",
      "source": [
        "I = vec_expint(np.arange(100, 600, 100)) ##\n",
        "I\n"
      ],
      "metadata": {
        "colab": {
          "base_uri": "https://localhost:8080/"
        },
        "id": "Xeqa2C0vdc7y",
        "outputId": "03e8676b-9df2-40c4-91bb-b17236a47fc0"
      },
      "execution_count": 23,
      "outputs": [
        {
          "output_type": "execute_result",
          "data": {
            "text/plain": [
              "array([ 0.7733281 ,  0.18227195,  0.02252894, -0.04941154, -0.08925261])"
            ]
          },
          "metadata": {},
          "execution_count": 23
        }
      ]
    },
    {
      "cell_type": "code",
      "source": [
        "BT_numerical = -2*np.pi*(sigma**3)*I\n",
        "BT_numerical"
      ],
      "metadata": {
        "colab": {
          "base_uri": "https://localhost:8080/"
        },
        "id": "SUX7vIzfuTYf",
        "outputId": "37a410c2-1b5f-4571-c3ec-35bf60688f41"
      },
      "execution_count": 24,
      "outputs": [
        {
          "output_type": "execute_result",
          "data": {
            "text/plain": [
              "array([-254.19000219,  -59.91209465,   -7.40517628,   16.24138643,\n",
              "         29.33699175])"
            ]
          },
          "metadata": {},
          "execution_count": 24
        }
      ]
    },
    {
      "cell_type": "code",
      "source": [
        "plt.plot(Temp, BT_nitrogen, marker = 'o', color = 'r')\n",
        "plt.plot(Temp, BT_numerical, marker = '+', color = 'g')\n",
        "plt.legend(['Nitrogen', 'Numerical'])\n",
        "plt.xlabel('Temperature (K)')\n",
        "plt.ylabel('B(T) ($A^3$)')"
      ],
      "metadata": {
        "colab": {
          "base_uri": "https://localhost:8080/",
          "height": 467
        },
        "id": "DdO4qldouTWS",
        "outputId": "a72ce11b-de5f-468e-95bd-82979cf94321"
      },
      "execution_count": 33,
      "outputs": [
        {
          "output_type": "execute_result",
          "data": {
            "text/plain": [
              "Text(0, 0.5, 'B(T) ($A^3$)')"
            ]
          },
          "metadata": {},
          "execution_count": 33
        },
        {
          "output_type": "display_data",
          "data": {
            "text/plain": [
              "<Figure size 640x480 with 1 Axes>"
            ],
            "image/png": "[encoded data removed]"
          },
          "metadata": {}
        }
      ]
    },
    {
      "cell_type": "markdown",
      "source": [
        "At low temperatures, the deviation is higher than one..."
      ],
      "metadata": {
        "id": "NfHSoF113trE"
      }
    },
    {
      "cell_type": "code",
      "source": [
        "differences = BT_nitrogen - BT_numerical\n",
        "differences ##"
      ],
      "metadata": {
        "colab": {
          "base_uri": "https://localhost:8080/"
        },
        "id": "z2ATZGNMddDH",
        "outputId": "1c92301d-5781-4abc-897c-cdae61e2aad3"
      },
      "execution_count": 34,
      "outputs": [
        {
          "output_type": "execute_result",
          "data": {
            "text/plain": [
              "array([ 7.19000219,  1.51209465, -0.09482372, -0.94138643, -1.23699175])"
            ]
          },
          "metadata": {},
          "execution_count": 34
        }
      ]
    },
    {
      "cell_type": "code",
      "source": [],
      "metadata": {
        "id": "_BJkcxVA34mR"
      },
      "execution_count": null,
      "outputs": []
    },
    {
      "cell_type": "code",
      "source": [
        "\n"
      ],
      "metadata": {
        "id": "5StKPT69dl_q"
      },
      "execution_count": null,
      "outputs": []
    },
    {
      "cell_type": "code",
      "source": [],
      "metadata": {
        "id": "tBR5c0JSdmB7"
      },
      "execution_count": null,
      "outputs": []
    }
  ]
}